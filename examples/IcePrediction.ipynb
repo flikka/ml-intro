{
 "cells": [
  {
   "cell_type": "markdown",
   "metadata": {},
   "source": [
    "# Create a machine learning model for prediction of ice\n",
    "**Note**: This is NOT how we write and structure code. The focus is a sequencial coding style to match a presentation mode.\n",
    "\n",
    "**Use case**: Sometimes the road is icy, and I slip and fall. I don't know when this happens, but suspect it is related to the weather (wind, temperature etc)."
   ]
  },
  {
   "cell_type": "markdown",
   "metadata": {},
   "source": [
    "## Create some ice/not-ice observation data"
   ]
  },
  {
   "cell_type": "code",
   "execution_count": 17,
   "metadata": {},
   "outputs": [
    {
     "data": {
      "text/html": [
       "<div>\n",
       "<style scoped>\n",
       "    .dataframe tbody tr th:only-of-type {\n",
       "        vertical-align: middle;\n",
       "    }\n",
       "\n",
       "    .dataframe tbody tr th {\n",
       "        vertical-align: top;\n",
       "    }\n",
       "\n",
       "    .dataframe thead th {\n",
       "        text-align: right;\n",
       "    }\n",
       "</style>\n",
       "<table border=\"1\" class=\"dataframe\">\n",
       "  <thead>\n",
       "    <tr style=\"text-align: right;\">\n",
       "      <th></th>\n",
       "      <th>Temperature</th>\n",
       "      <th>WindSpeed</th>\n",
       "      <th>Ice</th>\n",
       "    </tr>\n",
       "  </thead>\n",
       "  <tbody>\n",
       "    <tr>\n",
       "      <th>0</th>\n",
       "      <td>10</td>\n",
       "      <td>1</td>\n",
       "      <td>False</td>\n",
       "    </tr>\n",
       "    <tr>\n",
       "      <th>1</th>\n",
       "      <td>-2</td>\n",
       "      <td>9</td>\n",
       "      <td>True</td>\n",
       "    </tr>\n",
       "    <tr>\n",
       "      <th>2</th>\n",
       "      <td>3</td>\n",
       "      <td>2</td>\n",
       "      <td>False</td>\n",
       "    </tr>\n",
       "    <tr>\n",
       "      <th>3</th>\n",
       "      <td>1</td>\n",
       "      <td>4</td>\n",
       "      <td>False</td>\n",
       "    </tr>\n",
       "    <tr>\n",
       "      <th>4</th>\n",
       "      <td>-9</td>\n",
       "      <td>10</td>\n",
       "      <td>True</td>\n",
       "    </tr>\n",
       "    <tr>\n",
       "      <th>5</th>\n",
       "      <td>3</td>\n",
       "      <td>3</td>\n",
       "      <td>False</td>\n",
       "    </tr>\n",
       "    <tr>\n",
       "      <th>6</th>\n",
       "      <td>9</td>\n",
       "      <td>2</td>\n",
       "      <td>False</td>\n",
       "    </tr>\n",
       "    <tr>\n",
       "      <th>7</th>\n",
       "      <td>20</td>\n",
       "      <td>1</td>\n",
       "      <td>False</td>\n",
       "    </tr>\n",
       "    <tr>\n",
       "      <th>8</th>\n",
       "      <td>-20</td>\n",
       "      <td>20</td>\n",
       "      <td>True</td>\n",
       "    </tr>\n",
       "    <tr>\n",
       "      <th>9</th>\n",
       "      <td>1</td>\n",
       "      <td>0</td>\n",
       "      <td>False</td>\n",
       "    </tr>\n",
       "  </tbody>\n",
       "</table>\n",
       "</div>"
      ],
      "text/plain": [
       "   Temperature  WindSpeed    Ice\n",
       "0           10          1  False\n",
       "1           -2          9   True\n",
       "2            3          2  False\n",
       "3            1          4  False\n",
       "4           -9         10   True\n",
       "5            3          3  False\n",
       "6            9          2  False\n",
       "7           20          1  False\n",
       "8          -20         20   True\n",
       "9            1          0  False"
      ]
     },
     "execution_count": 17,
     "metadata": {},
     "output_type": "execute_result"
    }
   ],
   "source": [
    "import pandas as pd\n",
    "temperatures = [10, -2, 3, 1, -9, 3, 9, 20, -20, 1]\n",
    "wind_speeds = [1, 9, 2, 4, 10, 3, 2, 1, 20, 0]\n",
    "ice = [False, True, False, False, True, False, False, False, True, False]\n",
    "\n",
    "ice_df = pd.DataFrame(data=list(zip(temperatures, wind_speeds, ice)), columns=[\"Temperature\", \"WindSpeed\", \"Ice\"])\n",
    "ice_df"
   ]
  },
  {
   "cell_type": "markdown",
   "metadata": {},
   "source": [
    "## Use scikit-learn (de facto standard) to build a model"
   ]
  },
  {
   "cell_type": "code",
   "execution_count": 18,
   "metadata": {},
   "outputs": [
    {
     "data": {
      "text/plain": [
       "[Text(167.4, 163.07999999999998, 'WindSpeed <= 6.5\\ngini = 0.42\\nsamples = 10\\nvalue = [7, 3]\\nclass = IceFalse'),\n",
       " Text(83.7, 54.360000000000014, 'gini = 0.0\\nsamples = 7\\nvalue = [7, 0]\\nclass = IceFalse'),\n",
       " Text(251.10000000000002, 54.360000000000014, 'gini = 0.0\\nsamples = 3\\nvalue = [0, 3]\\nclass = Ice')]"
      ]
     },
     "execution_count": 18,
     "metadata": {},
     "output_type": "execute_result"
    },
    {
     "data": {
      "image/png": "[encoded data removed]",
      "text/plain": [
       "<Figure size 432x288 with 1 Axes>"
      ]
     },
     "metadata": {
      "needs_background": "light"
     },
     "output_type": "display_data"
    }
   ],
   "source": [
    "from sklearn.tree import DecisionTreeClassifier, plot_tree\n",
    "model = DecisionTreeClassifier()\n",
    "\n",
    "features = [\"Temperature\", \"WindSpeed\"]\n",
    "target = [\"Ice\"]\n",
    "model.fit(X=ice_df[features], y=ice_df[target]) # What happens if we run this line/block many times?\n",
    "plot_tree(model, feature_names = features, class_names = [\"IceFalse\", \"Ice\"])\n"
   ]
  },
  {
   "cell_type": "markdown",
   "metadata": {},
   "source": [
    "## Using the model in \"real life\"\n",
    "So will there be ice today?"
   ]
  },
  {
   "cell_type": "code",
   "execution_count": 19,
   "metadata": {},
   "outputs": [
    {
     "name": "stdout",
     "output_type": "stream",
     "text": [
      "Temperature 1 and wind speed 10 today, will there be ice? Answer from the computer: [ True]\n",
      "Temperature -1 and wind speed 10 today, will there be ice? Answer from the computer: [ True]\n"
     ]
    }
   ],
   "source": [
    "temp = 1; wind=10\n",
    "is_ice = model.predict([[temp, wind]])\n",
    "print(f\"Temperature {temp} and wind speed {10} today, will there be ice? Answer from the computer: {is_ice}\")\n",
    "\n",
    "temp=-1; wind=200\n",
    "is_ice = model.predict([[temp, wind]])\n",
    "print(f\"Temperature {temp} and wind speed {10} today, will there be ice? Answer from the computer: {is_ice}\")\n"
   ]
  },
  {
   "cell_type": "markdown",
   "metadata": {},
   "source": [
    "## Next: testing and assessing the quality of the model\n",
    "We always aim to *test* a model on data that is not used in the *training*. \n",
    "The simplest way to do this is to extract a portion of the data, and save it for a \"test\".\n",
    "\n",
    "NOTE: This is often not what produces the \"final model\", but is a way to assess the model. "
   ]
  },
  {
   "cell_type": "markdown",
   "metadata": {},
   "source": [
    "### Split data in train and test"
   ]
  },
  {
   "cell_type": "code",
   "execution_count": 20,
   "metadata": {},
   "outputs": [
    {
     "name": "stdout",
     "output_type": "stream",
     "text": [
      "Training data:\n",
      "   Temperature  WindSpeed    Ice\n",
      "3            1          4  False\n",
      "5            3          3  False\n",
      "9            1          0  False\n",
      "8          -20         20   True\n",
      "2            3          2  False\n",
      "Test data:\n",
      "   Temperature  WindSpeed    Ice\n",
      "7           20          1  False\n",
      "4           -9         10   True\n",
      "6            9          2  False\n",
      "1           -2          9   True\n",
      "0           10          1  False\n"
     ]
    }
   ],
   "source": [
    "from sklearn.model_selection import train_test_split\n",
    "\n",
    "X_train, X_test, y_train, y_test = train_test_split(ice_df[features], ice_df[target], test_size=0.5)\n",
    "print(\"Training data:\")\n",
    "print(pd.concat([X_train, y_train], axis=1))\n",
    "print(\"Test data:\")\n",
    "print(pd.concat([X_test, y_test], axis=1))"
   ]
  },
  {
   "cell_type": "markdown",
   "metadata": {},
   "source": [
    "### Train a model using _only_ the training part"
   ]
  },
  {
   "cell_type": "code",
   "execution_count": 21,
   "metadata": {},
   "outputs": [
    {
     "data": {
      "text/plain": [
       "[Text(167.4, 163.07999999999998, 'Temperature <= -9.5\\ngini = 0.32\\nsamples = 5\\nvalue = [4, 1]\\nclass = IceFalse'),\n",
       " Text(83.7, 54.360000000000014, 'gini = 0.0\\nsamples = 1\\nvalue = [0, 1]\\nclass = Ice'),\n",
       " Text(251.10000000000002, 54.360000000000014, 'gini = 0.0\\nsamples = 4\\nvalue = [4, 0]\\nclass = IceFalse')]"
      ]
     },
     "execution_count": 21,
     "metadata": {},
     "output_type": "execute_result"
    },
    {
     "data": {
      "image/png": "[encoded data removed]",
      "text/plain": [
       "<Figure size 432x288 with 1 Axes>"
      ]
     },
     "metadata": {
      "needs_background": "light"
     },
     "output_type": "display_data"
    }
   ],
   "source": [
    "model = DecisionTreeClassifier()\n",
    "model.fit(X_train, y_train)\n",
    "plot_tree(model, feature_names = features, class_names = [\"IceFalse\", \"Ice\"])"
   ]
  },
  {
   "cell_type": "markdown",
   "metadata": {},
   "source": [
    "### Use the model to predict the _test_ data, compare results to truth"
   ]
  },
  {
   "cell_type": "code",
   "execution_count": 22,
   "metadata": {},
   "outputs": [],
   "source": [
    "y_predicted = model.predict(X_test)"
   ]
  },
  {
   "cell_type": "code",
   "execution_count": 23,
   "metadata": {},
   "outputs": [
    {
     "name": "stdout",
     "output_type": "stream",
     "text": [
      "              precision    recall  f1-score   support\n",
      "\n",
      "       False       0.60      1.00      0.75         3\n",
      "        True       0.00      0.00      0.00         2\n",
      "\n",
      "    accuracy                           0.60         5\n",
      "   macro avg       0.30      0.50      0.37         5\n",
      "weighted avg       0.36      0.60      0.45         5\n",
      "\n"
     ]
    },
    {
     "name": "stderr",
     "output_type": "stream",
     "text": [
      "C:\\Users\\kf10717\\Miniconda3\\envs\\tof-demo\\lib\\site-packages\\sklearn\\metrics\\_classification.py:1221: UndefinedMetricWarning: Precision and F-score are ill-defined and being set to 0.0 in labels with no predicted samples. Use `zero_division` parameter to control this behavior.\n",
      "  _warn_prf(average, modifier, msg_start, len(result))\n"
     ]
    }
   ],
   "source": [
    "from sklearn.metrics import classification_report\n",
    "report = classification_report(y_test, y_predicted)\n",
    "print(report)"
   ]
  },
  {
   "cell_type": "markdown",
   "metadata": {},
   "source": [
    "## Further testing strategies\n",
    "* Split training and test data with \"representative\" portions of each class (Ice/Not Ice)\n",
    "* Use cross-validation (repeating the process above with different train/test selections), and average score"
   ]
  }
 ],
 "metadata": {
  "kernelspec": {
   "display_name": "Python 3",
   "language": "python",
   "name": "python3"
  },
  "language_info": {
   "codemirror_mode": {
    "name": "ipython",
    "version": 3
   },
   "file_extension": ".py",
   "mimetype": "text/x-python",
   "name": "python",
   "nbconvert_exporter": "python",
   "pygments_lexer": "ipython3",
   "version": "3.8.5"
  }
 },
 "nbformat": 4,
 "nbformat_minor": 4
}
