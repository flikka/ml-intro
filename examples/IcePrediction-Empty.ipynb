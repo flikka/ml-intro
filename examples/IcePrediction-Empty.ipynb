{
 "cells": [
  {
   "cell_type": "markdown",
   "metadata": {},
   "source": [
    "# Create a machine learning model for prediction of ice\n",
    "**Note**: This is NOT how we write and structure code. The focus is a sequencial coding style to match a presentation mode.\n",
    "\n",
    "**Use case**: Sometimes the road is icy, and I slip and fall. I don't know when this happens, but suspect it is related to the weather (wind, temperature etc)."
   ]
  },
  {
   "cell_type": "markdown",
   "metadata": {},
   "source": [
    "## Create some ice/not-ice observation data"
   ]
  },
  {
   "cell_type": "code",
   "execution_count": null,
   "metadata": {},
   "outputs": [],
   "source": [
    "import pandas as pd\n",
    "temperatures = [10, -2, 3, 1, -9, 3, 9, 20, -20, 1]\n",
    "wind_speeds = [1, 9, 2, 4, 10, 3, 2, 1, 20, 0]\n",
    "ice = [False, True, False, False, True, False, False, False, True, False]\n",
    "\n",
    "ice_df = pd.DataFrame(data=list(zip(temperatures, wind_speeds, ice)), columns=[\"Temperature\", \"WindSpeed\", \"Ice\"])\n",
    "ice_df"
   ]
  },
  {
   "cell_type": "markdown",
   "metadata": {},
   "source": [
    "## Use scikit-learn (de facto standard) to build a model"
   ]
  },
  {
   "cell_type": "code",
   "execution_count": null,
   "metadata": {},
   "outputs": [],
   "source": []
  },
  {
   "cell_type": "markdown",
   "metadata": {},
   "source": [
    "## Using the model in \"real life\"\n",
    "So will there be ice today?"
   ]
  },
  {
   "cell_type": "code",
   "execution_count": null,
   "metadata": {},
   "outputs": [],
   "source": []
  },
  {
   "cell_type": "markdown",
   "metadata": {},
   "source": [
    "## Next: testing and assessing the quality of the model\n",
    "We always aim to *test* a model on data that is not used in the *training*. \n",
    "The simplest way to do this is to extract a portion of the data, and save it for a \"test\".\n",
    "\n",
    "NOTE: This is often not what produces the \"final model\", but is a way to assess the model. "
   ]
  },
  {
   "cell_type": "markdown",
   "metadata": {},
   "source": [
    "### Split data in train and test"
   ]
  },
  {
   "cell_type": "code",
   "execution_count": null,
   "metadata": {},
   "outputs": [],
   "source": []
  },
  {
   "cell_type": "markdown",
   "metadata": {},
   "source": [
    "### Train a model using _only_ the training part"
   ]
  },
  {
   "cell_type": "code",
   "execution_count": null,
   "metadata": {},
   "outputs": [],
   "source": []
  },
  {
   "cell_type": "markdown",
   "metadata": {},
   "source": [
    "### Use the model to predict the _test_ data, compare results to truth"
   ]
  },
  {
   "cell_type": "code",
   "execution_count": null,
   "metadata": {},
   "outputs": [],
   "source": []
  },
  {
   "cell_type": "code",
   "execution_count": null,
   "metadata": {},
   "outputs": [],
   "source": []
  },
  {
   "cell_type": "markdown",
   "metadata": {},
   "source": [
    "## Further testing strategies\n",
    "* Split training and test data with \"representative\" portions of each class (Ice/Not Ice)\n",
    "* Use cross-validation (repeating the process above with different train/test selections), and average score"
   ]
  }
 ],
 "metadata": {
  "kernelspec": {
   "display_name": "Python 3",
   "language": "python",
   "name": "python3"
  },
  "language_info": {
   "codemirror_mode": {
    "name": "ipython",
    "version": 3
   },
   "file_extension": ".py",
   "mimetype": "text/x-python",
   "name": "python",
   "nbconvert_exporter": "python",
   "pygments_lexer": "ipython3",
   "version": "3.8.5"
  }
 },
 "nbformat": 4,
 "nbformat_minor": 4
}
